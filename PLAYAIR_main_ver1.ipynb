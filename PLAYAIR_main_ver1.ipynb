{
 "cells": [
  {
   "cell_type": "code",
   "execution_count": null,
   "id": "6d37d3b6",
   "metadata": {},
   "outputs": [],
   "source": [
    "from pylsl import StreamInlet, resolve_stream\n",
    "import pyautogui\n",
    "import time "
   ]
  },
  {
   "cell_type": "code",
   "execution_count": null,
   "id": "99bf1c2b",
   "metadata": {},
   "outputs": [],
   "source": [
    "# resolve an EMG stream on the lab network and notify the user\n",
    "print(\"Looking for an EMG stream...\")\n",
    "streams = resolve_stream('type', 'EMG')\n",
    "inlet = StreamInlet(streams[0])\n",
    "print(\"EMG stream found!\")\n",
    "\n",
    "# initialize thresholds and variables for storing time \n",
    "time_thres = 2000\n",
    "prev_time = 0\n",
    "flex_thres = 1.0\n",
    "\n",
    "while True:\n",
    "\n",
    "\tsample, timestamp = inlet.pull_sample() # get EMG data sample and its timestamp\n",
    "\n",
    "\tcurr_time = int(round(time.time() * 1000)) # get current time in milliseconds\n",
    "\n",
    "\tif ((sample[0] >=  flex_thres) & (curr_time - time_thres > prev_time)):  # if an EMG peak is detected and enough time has gone by since the last one, press space\n",
    "\t\tprev_time = curr_time # update time \n",
    "\t\tpyautogui.press('space')"
   ]
  }
 ],
 "metadata": {
  "kernelspec": {
   "display_name": "Python 3 (ipykernel)",
   "language": "python",
   "name": "python3"
  },
  "language_info": {
   "codemirror_mode": {
    "name": "ipython",
    "version": 3
   },
   "file_extension": ".py",
   "mimetype": "text/x-python",
   "name": "python",
   "nbconvert_exporter": "python",
   "pygments_lexer": "ipython3",
   "version": "3.10.4"
  }
 },
 "nbformat": 4,
 "nbformat_minor": 5
}

{
  "nbformat": 4,
  "nbformat_minor": 0,
  "metadata": {
    "colab": {
      "name": "PLAYAIR_main.ipynb",
      "provenance": [],
      "authorship_tag": "ABX9TyOUn3cW8TTAofpuOje7WsHz",
      "include_colab_link": true
    },
    "kernelspec": {
      "name": "python3",
      "display_name": "Python 3"
    },
    "language_info": {
      "name": "python"
    }
  },
  "cells": [
    {
      "cell_type": "markdown",
      "metadata": {
        "id": "view-in-github",
        "colab_type": "text"
      },
      "source": [
        "<a href=\"https://colab.research.google.com/github/MrLiemVu/Air-Instruments/blob/main/PLAYAIR_main.ipynb\" target=\"_parent\"><img src=\"https://colab.research.google.com/assets/colab-badge.svg\" alt=\"Open In Colab\"/></a>"
      ]
    },
    {
      "cell_type": "code",
      "execution_count": null,
      "metadata": {
        "id": "IZyje1fV0kcD"
      },
      "outputs": [],
      "source": [
        "from pylsl import StreamInlet, resolve_stream\n",
        "import pyautogui\n",
        "import time  "
      ]
    },
    {
      "cell_type": "code",
      "source": [
        "# resolve an EMG stream on the lab network and notify the user\n",
        "print(\"Looking for an EMG stream...\")\n",
        "streams = resolve_stream('type', 'EMG')\n",
        "inlet = StreamInlet(streams[0])\n",
        "print(\"EMG stream found!\")\n",
        "\n",
        "# initialize thresholds and variables for storing time \n",
        "time_thres = 2000\n",
        "prev_time = 0\n",
        "flex_thres = 1.0\n",
        "\n",
        "while True:\n",
        "\n",
        "\tsample, timestamp = inlet.pull_sample() # get EMG data sample and its timestamp\n",
        "\n",
        "\tcurr_time = int(round(time.time() * 1000)) # get current time in milliseconds\n",
        "\n",
        "# if an EMG peak is detected and enough time has gone by since the last one, press space\n",
        "\tif ((sample[0] >=  flex_thres) & (curr_time - time_thres > prev_time)):  \n",
        "\t\tprev_time = curr_time # update time \n",
        "\t\tpyautogui.press('space')"
      ],
      "metadata": {
        "id": "DZeN0lPA2pWm"
      },
      "execution_count": null,
      "outputs": []
    }
  ]
}